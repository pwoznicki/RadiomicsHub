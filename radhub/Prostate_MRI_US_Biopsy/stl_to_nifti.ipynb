{
 "cells": [
  {
   "cell_type": "code",
   "execution_count": null,
   "id": "5ad71e14-c225-4908-ac8b-9650fd749fe3",
   "metadata": {},
   "outputs": [],
   "source": [
    "import os\n",
    "from pathlib import Path\n",
    "import slicer\n",
    "\n",
    "\n",
    "# taken from https://discourse.slicer.org/t/converting-stl-files-to-binary-label-maps-in-nii-format-using-python/13038/9\n",
    "def stl_to_nifti(stl_path, reference_volume_path, output_path):\n",
    "    referenceVolumeNode = slicer.util.loadVolume(str(reference_volume_path))\n",
    "    segmentationNode = slicer.util.loadSegmentation(str(stl_path))\n",
    "    outputLabelmapVolumeNode = slicer.mrmlScene.AddNewNodeByClass(\n",
    "        \"vtkMRMLLabelMapVolumeNode\"\n",
    "    )\n",
    "    slicer.modules.segmentations.logic().ExportVisibleSegmentsToLabelmapNode(\n",
    "        segmentationNode, outputLabelmapVolumeNode, referenceVolumeNode\n",
    "    )\n",
    "    slicer.util.saveNode(outputLabelmapVolumeNode, str(output_path))\n",
    "\n",
    "\n",
    "def convert_segmentations(stl_dir, img_dir, out_dir):\n",
    "    filenames = os.listdir(str(stl_dir))\n",
    "    for i, fname in enumerate(filenames):\n",
    "        print(f\"Converting {i}/{len(filenames)}: {fname}\")\n",
    "        stl_path = Path(stl_dir) / fname\n",
    "        fname_split = fname[:-4].split(\"-\")\n",
    "        patient_ID = (\"-\").join(fname_split[:5])\n",
    "        series_UID = fname_split[-1]\n",
    "        ROI = fname_split[5]\n",
    "        ref_img_path = Path(img_dir) / patient_ID / (series_UID + \".nii.gz\")\n",
    "        if ref_img_path.exists():\n",
    "            (Path(out_dir) / patient_ID).mkdir(exist_ok=True, parents=True)\n",
    "            output_path = Path(out_dir) / patient_ID / (f\"{ROI}_{series_UID}.nii.gz\")\n",
    "            if not output_path.exists():\n",
    "                stl_to_nifti(stl_path, ref_img_path, output_path)\n",
    "\n",
    "\n",
    "convert_segmentations(\n",
    "    stl_dir=\"/stl\",\n",
    "    img_dir=\"/nifti/img\",\n",
    "    out_dir=\"/nifti/seg\",\n",
    ")\n"
   ]
  },
  {
   "cell_type": "code",
   "execution_count": null,
   "id": "4d6fbf37-b2ea-4467-9375-4c91bc64ab26",
   "metadata": {},
   "outputs": [],
   "source": []
  }
 ],
 "metadata": {
  "kernelspec": {
   "display_name": "Slicer 5.0",
   "language": "python",
   "name": "slicer-5.0"
  },
  "language_info": {
   "file_extension": ".py",
   "mimetype": "text/x-python",
   "name": "python",
   "version": "3.9.10"
  }
 },
 "nbformat": 4,
 "nbformat_minor": 5
}
